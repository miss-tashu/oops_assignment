{
  "nbformat": 4,
  "nbformat_minor": 0,
  "metadata": {
    "colab": {
      "provenance": []
    },
    "kernelspec": {
      "name": "python3",
      "display_name": "Python 3"
    },
    "language_info": {
      "name": "python"
    }
  },
  "cells": [
    {
      "cell_type": "markdown",
      "source": [
        "1 What are the five key concepts of Object-Oriented Programming (OOP)?"
      ],
      "metadata": {
        "id": "v-aX5mwDEOD5"
      }
    },
    {
      "cell_type": "markdown",
      "source": [
        "The key concept of OOP to work together to create robust, scalable, and maintainable software systems.\n",
        "\n",
        "1.OOPS:its help you to arrange the required function in  respective classes.\n",
        "\n",
        "2.INHERITANCE : refers to process of child class recieving the properties of parent class.\n",
        "\n",
        "3.ABSTRACTION: used in collection of multiople module,can be achieved using abstract class.\n",
        "\n",
        "4.POLYMORPHISM: refers to an object taking several factors depending on methods/data.\n",
        "\n",
        "5.ENCAPSULATION:it is public ,private and protected access modifier,accesible for anywhere.\n"
      ],
      "metadata": {
        "id": "e4Ph0OU8FGdb"
      }
    },
    {
      "cell_type": "markdown",
      "source": [
        "2. Write a Python class for a `Car` with attributes for `make`, `model`, and `year`. Include a method to display\n",
        "the car's information."
      ],
      "metadata": {
        "id": "cGGcNhnhII2g"
      }
    },
    {
      "cell_type": "code",
      "execution_count": null,
      "metadata": {
        "id": "WGOgia6dDlDV"
      },
      "outputs": [],
      "source": [
        "class Car:\n",
        "    def __init__(self, make, model, year):\n",
        "        self.make = make\n",
        "        self.model = model\n",
        "        self.year = year\n",
        "\n",
        "    def display_info(self):\n",
        "        print(f\"Car Make: {self.make}\")\n",
        "        print(f\"Car Model: {self.model}\")\n",
        "        print(f\"Car Year: {self.year}\")\n"
      ]
    },
    {
      "cell_type": "code",
      "source": [
        "if __name__ == \"__main__\":\n",
        "    my_car = Car(\"Toyota\", \"Camry\", 2022)\n",
        "    my_car.display_info()"
      ],
      "metadata": {
        "colab": {
          "base_uri": "https://localhost:8080/"
        },
        "id": "aD8qvOvJLDso",
        "outputId": "a05e903d-95ed-4f58-8309-29e714d60dd0"
      },
      "execution_count": null,
      "outputs": [
        {
          "output_type": "stream",
          "name": "stdout",
          "text": [
            "Car Make: Toyota\n",
            "Car Model: Camry\n",
            "Car Year: 2022\n"
          ]
        }
      ]
    },
    {
      "cell_type": "markdown",
      "source": [
        "3. Explain the difference between instance methods and class methods. Provide an example of each."
      ],
      "metadata": {
        "id": "3W0AQtXMLd8H"
      }
    },
    {
      "cell_type": "markdown",
      "source": [
        "In the instance method functions defined inside a class that can be instances (objects) of that class.They can be accessable and modifyable instance variables."
      ],
      "metadata": {
        "id": "mkPxq8HgTWNU"
      }
    },
    {
      "cell_type": "code",
      "source": [
        "class teacher:\n",
        "    def __init__(self, name):\n",
        "        self.name = name\n",
        "\n",
        "    def student(self):\n",
        "        return f\"{self.name} says hello!\"\n",
        "\n",
        "# Creating an instance of teacher\n",
        "my_teacher = teacher(\"student\")\n",
        "print(my_teacher.student())"
      ],
      "metadata": {
        "id": "I27O8SGVLoWM",
        "colab": {
          "base_uri": "https://localhost:8080/"
        },
        "outputId": "d5912252-6b5b-4cc7-cd46-f726e7d89ea4"
      },
      "execution_count": 2,
      "outputs": [
        {
          "output_type": "stream",
          "name": "stdout",
          "text": [
            "student says hello!\n"
          ]
        }
      ]
    },
    {
      "cell_type": "markdown",
      "source": [
        "In the class method ,if you make an object the attributes is fixed.They are defined with the @classmethod decorator and take cls as the first parameter, which represents the class itself.*italicized text*"
      ],
      "metadata": {
        "id": "GWXrwp10XeH6"
      }
    },
    {
      "cell_type": "code",
      "source": [
        "class car:\n",
        "  def accelerate(self):\n",
        "    print(\"car is ACCELERATING\")"
      ],
      "metadata": {
        "id": "i7Ntg6SSXdi2"
      },
      "execution_count": 1,
      "outputs": []
    },
    {
      "cell_type": "code",
      "source": [
        "A = car()\n",
        "A.accelerate()"
      ],
      "metadata": {
        "colab": {
          "base_uri": "https://localhost:8080/"
        },
        "id": "t83siy6jkhK2",
        "outputId": "e0ad2b74-d41b-492e-c7e3-96f809a77481"
      },
      "execution_count": 2,
      "outputs": [
        {
          "output_type": "stream",
          "name": "stdout",
          "text": [
            "car is ACCELERATING\n"
          ]
        }
      ]
    },
    {
      "cell_type": "markdown",
      "source": [
        "4. How does Python implement method overloading? Give an example."
      ],
      "metadata": {
        "id": "UuoyiDq6bTUT"
      }
    },
    {
      "cell_type": "markdown",
      "source": [
        "Python does not support traditional method overloading as seen in some other programming languages like Java or C++. Instead, Python allows for a single method can do whole process."
      ],
      "metadata": {
        "id": "lIYR24L4cUx6"
      }
    },
    {
      "cell_type": "code",
      "source": [
        "class student:\n",
        "  def student(self):\n",
        "    print(\"student is studying\")\n",
        "  def student(self,name=\"\"):\n",
        "    print(f\"{name}hey\")\n",
        "\n",
        ""
      ],
      "metadata": {
        "id": "b5qCzKjdcfDr"
      },
      "execution_count": 10,
      "outputs": []
    },
    {
      "cell_type": "code",
      "source": [
        "stud=student()\n",
        "stud.student()\n",
        "stud.student(\"tashu\")"
      ],
      "metadata": {
        "colab": {
          "base_uri": "https://localhost:8080/"
        },
        "id": "O8QsVSm4ay33",
        "outputId": "ce92e523-8e06-4f1b-f29f-8bb86c7f200c"
      },
      "execution_count": 11,
      "outputs": [
        {
          "output_type": "stream",
          "name": "stdout",
          "text": [
            "hey\n",
            "tashuhey\n"
          ]
        }
      ]
    },
    {
      "cell_type": "markdown",
      "source": [
        "5. What are the three types of access modifiers in Python? How are they denoted?"
      ],
      "metadata": {
        "id": "y_flw4sYeECx"
      }
    },
    {
      "cell_type": "markdown",
      "source": [
        "There are three type of modifiers public,protected and private.\n",
        "Public areaccesible from anywhere pr outsider insider of class."
      ],
      "metadata": {
        "id": "xLWJcmRseWZA"
      }
    },
    {
      "cell_type": "code",
      "source": [
        "class strs:\n",
        "  def __init__(self,name,degree): # Changed init to __init__\n",
        "    self.name=name\n",
        "    self.degree=degree\n",
        "  def show(self):\n",
        "    print(f\"name is {self.name} and degree is {self.degree}\")\n",
        "\n",
        "stud1 = strs(\"tashu\",\"medicine\")  # Create an instance of strs\n",
        "stud1.show()  # Call the show method on the instance"
      ],
      "metadata": {
        "colab": {
          "base_uri": "https://localhost:8080/"
        },
        "id": "kFccD5H-72N8",
        "outputId": "00cc6127-99e1-431b-ce0d-897698385100"
      },
      "execution_count": 17,
      "outputs": [
        {
          "output_type": "stream",
          "name": "stdout",
          "text": [
            "name is tashu and degree is medicine\n"
          ]
        }
      ]
    },
    {
      "cell_type": "markdown",
      "source": [
        "private method is only accesible within its class used to make private"
      ],
      "metadata": {
        "id": "b4f_x1d8Cko_"
      }
    },
    {
      "cell_type": "code",
      "source": [
        "class Car:\n",
        "    def __init__(self, year, model, speed, make):\n",
        "        self.__year = year\n",
        "        self.__model = model\n",
        "        self.__speed = speed\n",
        "        self.__make = make\n",
        "\n",
        "    # Add a getter method to access the year attribute\n",
        "    def get_year(self):\n",
        "        return self.__year"
      ],
      "metadata": {
        "id": "q6fvcETXE3fO"
      },
      "execution_count": 29,
      "outputs": []
    },
    {
      "cell_type": "code",
      "source": [
        "c1 = Car(\"1995\", \"swift desire\", \"89\", \"suzuki\")\n",
        "# Access the year using the getter method\n",
        "print(c1.get_year())"
      ],
      "metadata": {
        "colab": {
          "base_uri": "https://localhost:8080/"
        },
        "id": "ncJIB_GIGKFX",
        "outputId": "5b2cdc73-096d-4ca8-c113-b657393bb00e"
      },
      "execution_count": 30,
      "outputs": [
        {
          "output_type": "stream",
          "name": "stdout",
          "text": [
            "1995\n"
          ]
        }
      ]
    },
    {
      "cell_type": "markdown",
      "source": [
        "protected method is used for within the class and its subclass ,protected member can be access,(_)"
      ],
      "metadata": {
        "id": "TOwz0pSlGQEQ"
      }
    },
    {
      "cell_type": "code",
      "source": [
        "class college:\n",
        "  def __init__(self):\n",
        "    self.college_name=\"NSCB\" # Change self_college_name to self.college_name\n",
        "\n",
        "class student(college):\n",
        "  def __init__(self, student_name): # Add student_name as an argument\n",
        "    self.student_name = student_name # Assign the provided student_name\n",
        "    college.__init__(self)\n",
        "\n",
        "  def show(self): # Add show method to the student class\n",
        "    print(f\"college name is {self.college_name} and student name is {self.student_name}\")\n",
        "\n",
        "stud = student(\"tashu\") # Create a student object with the name \"tashu\"\n",
        "stud.show() # Call the show method to print the information"
      ],
      "metadata": {
        "colab": {
          "base_uri": "https://localhost:8080/"
        },
        "id": "ohpHU4inHn_y",
        "outputId": "4b9e0032-6c06-419c-bc31-58eb908e6ae5"
      },
      "execution_count": 35,
      "outputs": [
        {
          "output_type": "stream",
          "name": "stdout",
          "text": [
            "college name is NSCB and student name is tashu\n"
          ]
        }
      ]
    },
    {
      "cell_type": "markdown",
      "source": [
        "6. Describe the five types of inheritance in Python. Provide a simple example of multiple inheritance."
      ],
      "metadata": {
        "id": "OEtZgMA5IJqS"
      }
    },
    {
      "cell_type": "markdown",
      "source": [
        "1.Single inheritance is when a derived class has only one parent class.\n",
        "\n",
        "2.multiple inheritance is one child class may inherit the property of multiple parent class.\n",
        "\n",
        "3.hierarchial inheritance is when one parent class is multiple when more than two child\n",
        "\n",
        "4.hybrid inheritance is multiple types or combination of different inheritance.\n",
        "\n",
        "5.multi-level inheritance is used when parent class to multiple class.\n",
        "\n",
        "example of multiple inheriatnce:-"
      ],
      "metadata": {
        "id": "oTvNtncmId_A"
      }
    },
    {
      "cell_type": "code",
      "source": [
        "class parentclass1:\n",
        "  def method1(self):\n",
        "    print(\"parentclass1\")\n",
        "\n",
        "class parentclass2:\n",
        "  def method2(self):\n",
        "    print(\"parentclass2\")\n",
        "\n",
        "class childclass(parentclass1,parentclass2):\n",
        "  def method3(self):\n",
        "    print(\"childclass\")"
      ],
      "metadata": {
        "id": "j95b0Q1zIBf8"
      },
      "execution_count": 36,
      "outputs": []
    },
    {
      "cell_type": "code",
      "source": [
        "c1=childclass()\n",
        "c1.method1()\n",
        "c1.method2()\n",
        "c1.method3()"
      ],
      "metadata": {
        "colab": {
          "base_uri": "https://localhost:8080/"
        },
        "id": "RQ69thlXKI96",
        "outputId": "9ae12430-4491-4436-d4f8-cf62254ce771"
      },
      "execution_count": 37,
      "outputs": [
        {
          "output_type": "stream",
          "name": "stdout",
          "text": [
            "parentclass1\n",
            "parentclass2\n",
            "childclass\n"
          ]
        }
      ]
    },
    {
      "cell_type": "markdown",
      "source": [
        "The Method Resolution Order (MRO) is the order in which Python looks for a method in a hierarchy of classes. This is particularly important in multiple inheritance scenarios, where a class may inherit from more than one parent class. MRO determines the sequence in which base classes are searched when executing a method."
      ],
      "metadata": {
        "id": "iV34j6kCKfzO"
      }
    },
    {
      "cell_type": "code",
      "source": [
        "class A:\n",
        "    pass\n",
        "\n",
        "class B(A):\n",
        "    pass\n",
        "\n",
        "class C(A):\n",
        "    pass\n",
        "\n",
        "class D(B, C):\n",
        "    pass\n",
        "\n",
        "# Retrieve the MRO\n",
        "print(D.__mro__)\n",
        "print(D.mro())\n"
      ],
      "metadata": {
        "colab": {
          "base_uri": "https://localhost:8080/"
        },
        "id": "bBwW-SvOKMnI",
        "outputId": "7474beee-9084-4b5a-e5a2-5946e4dca9eb"
      },
      "execution_count": 38,
      "outputs": [
        {
          "output_type": "stream",
          "name": "stdout",
          "text": [
            "(<class '__main__.D'>, <class '__main__.B'>, <class '__main__.C'>, <class '__main__.A'>, <class 'object'>)\n",
            "[<class '__main__.D'>, <class '__main__.B'>, <class '__main__.C'>, <class '__main__.A'>, <class 'object'>]\n"
          ]
        }
      ]
    },
    {
      "cell_type": "markdown",
      "source": [
        "8. Create an abstract base class `Shape` with an abstract method `area()`. Then create two subclasses\n",
        "`Circle` and `Rectangle` that implement the `area()` method."
      ],
      "metadata": {
        "id": "T2HFwXQnLIns"
      }
    },
    {
      "cell_type": "code",
      "source": [
        "from abc import ABC, abstractmethod\n",
        "import math\n",
        "\n",
        "# Abstract Base Class\n",
        "class Shape(ABC):\n",
        "    @abstractmethod\n",
        "    def area(self):\n",
        "        pass\n",
        "\n",
        "# Subclass for Circle\n",
        "class Circle(Shape):\n",
        "    def __init__(self, radius):\n",
        "        self.radius = radius\n",
        "\n",
        "    def area(self):\n",
        "        return math.pi * self.radius ** 2\n",
        "\n",
        "# Subclass for Rectangle\n",
        "class Rectangle(Shape):\n",
        "    def __init__(self, width, height):\n",
        "        self.width = width\n",
        "        self.height = height\n",
        "\n",
        "    def area(self):\n",
        "        return self.width * self.height\n",
        "\n",
        "# Example usage\n",
        "circle = Circle(5)\n",
        "rectangle = Rectangle(4, 6)\n",
        "\n",
        "print(f\"Area of Circle: {circle.area():.2f}\")\n",
        "print(f\"Area of Rectangle: {rectangle.area():.2f}\")"
      ],
      "metadata": {
        "colab": {
          "base_uri": "https://localhost:8080/"
        },
        "id": "yCqdvw1bK64y",
        "outputId": "f1e66ee7-bedf-4543-cd41-c690e04d8538"
      },
      "execution_count": 39,
      "outputs": [
        {
          "output_type": "stream",
          "name": "stdout",
          "text": [
            "Area of Circle: 78.54\n",
            "Area of Rectangle: 24.00\n"
          ]
        }
      ]
    },
    {
      "cell_type": "markdown",
      "source": [
        "9. Demonstrate polymorphism by creating a function that can work with different shape objects to calculate\n",
        "and print their areas."
      ],
      "metadata": {
        "id": "uqJDMzRgLjuW"
      }
    },
    {
      "cell_type": "markdown",
      "source": [
        "polymorphism means meaning and morphism means forms or status refers to an object taking several factors depending on methods/data."
      ],
      "metadata": {
        "id": "AUxcC7bBMBEn"
      }
    },
    {
      "cell_type": "code",
      "source": [
        "class teacher_lecture:\n",
        "  def lec_info(self):\n",
        "    print(\"this is lecture info\")\n",
        "class student_lecture():\n",
        "  def lec_info(self):\n",
        "    print(\"this is student lecture\")"
      ],
      "metadata": {
        "id": "WRxSG4dzLqYr"
      },
      "execution_count": 40,
      "outputs": []
    },
    {
      "cell_type": "code",
      "source": [
        "onj1=teacher_lecture()\n",
        "ojn2=student_lecture()"
      ],
      "metadata": {
        "id": "m0zRBdLzM5pM"
      },
      "execution_count": 41,
      "outputs": []
    },
    {
      "cell_type": "code",
      "source": [
        "class_obj=[onj1,ojn2]"
      ],
      "metadata": {
        "id": "hmO13MErM8Ye"
      },
      "execution_count": 42,
      "outputs": []
    },
    {
      "cell_type": "code",
      "source": [
        "def parcer(class_obj):\n",
        "  for i in class_obj:\n",
        "    i.lec_info()"
      ],
      "metadata": {
        "id": "skOJ-dg0M_wv"
      },
      "execution_count": 43,
      "outputs": []
    },
    {
      "cell_type": "code",
      "source": [
        "parcer(class_obj)"
      ],
      "metadata": {
        "colab": {
          "base_uri": "https://localhost:8080/"
        },
        "id": "0ohYdEyLNIjx",
        "outputId": "9d100dea-5069-4f12-a581-60be8c9f1aac"
      },
      "execution_count": 44,
      "outputs": [
        {
          "output_type": "stream",
          "name": "stdout",
          "text": [
            "this is lecture info\n",
            "this is student lecture\n"
          ]
        }
      ]
    },
    {
      "cell_type": "markdown",
      "source": [
        "10. Implement encapsulation in a `BankAccount` class with private attributes for `balance` and\n",
        "`account_number`. Include methods for deposit, withdrawal, and balance inquiry."
      ],
      "metadata": {
        "id": "4wHjRvZ-NWrW"
      }
    },
    {
      "cell_type": "code",
      "source": [
        "class BankAccount:\n",
        "    def __init__(self, account_number, initial_balance=0):\n",
        "        self.__account_number = account_number  # Private attribute\n",
        "        self.__balance = initial_balance         # Private attribute\n",
        "\n",
        "    def deposit(self, amount):\n",
        "        if amount > 0:\n",
        "            self.__balance += amount\n",
        "            print(f\"Deposited: ${amount:.2f}. New balance: ${self.__balance:.2f}\")\n",
        "        else:\n",
        "            print(\"Deposit amount must be positive.\")\n",
        "\n",
        "    def withdrawal(self, amount):\n",
        "        if 0 < amount <= self.__balance:\n",
        "            self.__balance -= amount\n",
        "            print(f\"Withdrew: ${amount:.2f}. New balance: ${self.__balance:.2f}\")\n",
        "        else:\n",
        "            print(\"Invalid withdrawal amount.\")\n",
        "\n",
        "    def inquiry(self):\n",
        "        return f\"Account Number: {self.__account_number}, Balance: ${self.__balance:.2f}\"\n",
        "\n",
        "# Example\n",
        "account = BankAccount(\"123456789\", 1000)\n",
        "\n",
        "# Performing operations\n",
        "print(account.inquiry())\n",
        "account.deposit(500)\n",
        "  acccount.withdrawal(200)\n",
        "print(account.inquiry())\n"
      ],
      "metadata": {
        "colab": {
          "base_uri": "https://localhost:8080/"
        },
        "id": "1B1o8u1LNK6I",
        "outputId": "de35c401-5b59-40cf-fc2b-d9ca6a0a8955"
      },
      "execution_count": 45,
      "outputs": [
        {
          "output_type": "stream",
          "name": "stdout",
          "text": [
            "Account Number: 123456789, Balance: $1000.00\n",
            "Deposited: $500.00. New balance: $1500.00\n",
            "Withdrew: $200.00. New balance: $1300.00\n",
            "Account Number: 123456789, Balance: $1300.00\n"
          ]
        }
      ]
    },
    {
      "cell_type": "markdown",
      "source": [
        "11. Write a class that overrides the `__str__` and `__add__` magic methods. What will these methods allow\n",
        "you to do?"
      ],
      "metadata": {
        "id": "CyyVYD8yOGSI"
      }
    },
    {
      "cell_type": "code",
      "source": [
        "class Point:\n",
        "    def __init__(self, x, y):\n",
        "        self.x = x\n",
        "        self.y = y\n",
        "\n",
        "    def __str__(self):\n",
        "        return f\"Point({self.x}, {self.y})\"\n",
        "\n",
        "    def __add__(self, other):\n",
        "        return Point(self.x + other.x, self.y + other.y)\n",
        "v1 = Point(2, 3)\n",
        "v2 = Point(5, 7)\n",
        "\n",
        "# Using __str__ method\n",
        "print(v1)\n",
        "print(v2)\n",
        "\n",
        "# Using __add__ method\n",
        "v3 = v1 + v2\n",
        "print(v3)\n"
      ],
      "metadata": {
        "colab": {
          "base_uri": "https://localhost:8080/"
        },
        "id": "pFseOBx5OF42",
        "outputId": "627ccec5-34a6-436f-abbe-d9244a269d20"
      },
      "execution_count": 47,
      "outputs": [
        {
          "output_type": "stream",
          "name": "stdout",
          "text": [
            "Point(2, 3)\n",
            "Point(5, 7)\n",
            "Point(7, 10)\n"
          ]
        }
      ]
    },
    {
      "cell_type": "markdown",
      "source": [
        "12. Create a decorator that measures and prints the execution time of a function."
      ],
      "metadata": {
        "id": "aT4bmQbuP_su"
      }
    },
    {
      "cell_type": "code",
      "source": [
        "import time\n",
        "\n",
        "def time_decorator(func):\n",
        "  def timer():\n",
        "    start_time = time.time()\n",
        "    func()\n",
        "    end_time = time.time()\n",
        "    print(\"the time of executing function\", end_time - start_time)\n",
        "  return timer\n",
        "\n",
        "@time_decorator\n",
        "def func_test():\n",
        "  print(1100000*1000)\n",
        "\n",
        "func_test()"
      ],
      "metadata": {
        "colab": {
          "base_uri": "https://localhost:8080/"
        },
        "id": "xSYcGEA5Q49E",
        "outputId": "2daaecf8-9339-4dac-fcc9-321efce818bc"
      },
      "execution_count": 54,
      "outputs": [
        {
          "output_type": "stream",
          "name": "stdout",
          "text": [
            "1100000000\n",
            "the time of executing function 0.0019526481628417969\n"
          ]
        }
      ]
    },
    {
      "cell_type": "markdown",
      "source": [
        "13. Explain the concept of the Diamond Problem in multiple inheritance. How does Python resolve it?"
      ],
      "metadata": {
        "id": "s53NWmbGSk0i"
      }
    },
    {
      "cell_type": "markdown",
      "source": [
        "The Diamond Problem is a common issue in multiple inheritance scenarios in object-oriented programming. It occurs when a class inherits from two classes that both inherit from a common superclass, creating a diamond-shaped inheritance structure.\n",
        "      Here’s a practical example demonstrating the diamond problem and how Python resolves it:"
      ],
      "metadata": {
        "id": "_a9xViRnTz9-"
      }
    },
    {
      "cell_type": "code",
      "source": [
        "class A:\n",
        "  def method(self):\n",
        "    print(\"method of A\")\n",
        "\n",
        "class B(A):\n",
        "  def method(self):\n",
        "    print(\"method of B\")\n",
        "\n",
        "class C(A):\n",
        "  def method(self):\n",
        "    print(\"method of C\")\n",
        "\n",
        "class D(B, C):\n",
        "  pass"
      ],
      "metadata": {
        "id": "foTu8vNkSCqC"
      },
      "execution_count": 55,
      "outputs": []
    },
    {
      "cell_type": "code",
      "source": [
        "d=D()\n",
        "d.method()"
      ],
      "metadata": {
        "colab": {
          "base_uri": "https://localhost:8080/"
        },
        "id": "f8w3yJ2eUYrE",
        "outputId": "0a47d4b5-9ea5-47ac-b57c-87ef016da92c"
      },
      "execution_count": 56,
      "outputs": [
        {
          "output_type": "stream",
          "name": "stdout",
          "text": [
            "method of B\n"
          ]
        }
      ]
    },
    {
      "cell_type": "markdown",
      "source": [
        "14. Write a class method that keeps track of the number of instances created from a class."
      ],
      "metadata": {
        "id": "P4RjEpotUhE_"
      }
    },
    {
      "cell_type": "code",
      "source": [
        "class InstanceCounter:\n",
        "    count = 0\n",
        "    def __init__(self):\n",
        "        InstanceCounter.count += 1\n",
        "\n",
        "    @classmethod\n",
        "    def get_instance_count(cls):\n",
        "        return cls.count\n",
        ""
      ],
      "metadata": {
        "id": "VLehSa3rVMlc"
      },
      "execution_count": 60,
      "outputs": []
    },
    {
      "cell_type": "code",
      "source": [
        "obj1 = InstanceCounter()\n",
        "obj2 = InstanceCounter()\n",
        "obj3 = InstanceCounter()"
      ],
      "metadata": {
        "id": "nUCWioSwVS9W"
      },
      "execution_count": 61,
      "outputs": []
    },
    {
      "cell_type": "code",
      "source": [
        "print(f\"Number of instances created: {InstanceCounter.get_instance_count()}\")"
      ],
      "metadata": {
        "colab": {
          "base_uri": "https://localhost:8080/"
        },
        "id": "236okQUHVYIV",
        "outputId": "e678a143-e3e9-415a-ed49-e5097a48018c"
      },
      "execution_count": 62,
      "outputs": [
        {
          "output_type": "stream",
          "name": "stdout",
          "text": [
            "Number of instances created: 3\n"
          ]
        }
      ]
    },
    {
      "cell_type": "markdown",
      "source": [
        "15. Implement a static method in a class that checks if a given year is a leap year."
      ],
      "metadata": {
        "id": "bPGY_TPiV4CC"
      }
    },
    {
      "cell_type": "code",
      "source": [
        "class thisyear:\n",
        "    @staticmethod\n",
        "    def is_leap_year(year):\n",
        "        \"\"\"Check if the given year is a leap year.\"\"\"\n",
        "        if (year % 4 == 0 and year % 100 != 0) or (year % 400 == 0):\n",
        "            return True\n",
        "        return False\n",
        "\n",
        "# Example usage\n",
        "year = 2024\n",
        "if thisyear.is_leap_year(year):\n",
        "    print(f\"{year} is a leap year.\")\n",
        "else:\n",
        "    print(f\"{year} is not a leap year.\")\n",
        "\n",
        "year = 1900\n",
        "if thisyear.is_leap_year(year):\n",
        "    print(f\"{year} is a leap year.\")\n",
        "else:\n",
        "    print(f\"{year} is not a leap year.\")\n"
      ],
      "metadata": {
        "colab": {
          "base_uri": "https://localhost:8080/"
        },
        "id": "kWNJwauVVjVN",
        "outputId": "b8cec8c1-af4b-4c4f-b0f1-627edab658a8"
      },
      "execution_count": 63,
      "outputs": [
        {
          "output_type": "stream",
          "name": "stdout",
          "text": [
            "2024 is a leap year.\n",
            "1900 is not a leap year.\n"
          ]
        }
      ]
    },
    {
      "cell_type": "code",
      "source": [],
      "metadata": {
        "id": "SrTpAGvMWdtP"
      },
      "execution_count": null,
      "outputs": []
    }
  ]
}